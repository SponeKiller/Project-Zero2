{
 "cells": [
  {
   "cell_type": "markdown",
   "metadata": {
    "id": "mXYy7DA1WwRK"
   },
   "source": [
    "# Vision transformer Training\n"
   ]
  },
  {
   "cell_type": "markdown",
   "metadata": {
    "id": "AQYctARr7d64"
   },
   "source": [
    "Modules:"
   ]
  },
  {
   "cell_type": "code",
   "execution_count": null,
   "metadata": {},
   "outputs": [],
   "source": [
    "import os\n",
    "import sys\n",
    "\n",
    "from model_i2t.utils.gitrepo import GitRepo\n",
    "from model_i2t.utils.util import Util\n",
    "\n",
    "Util.download_package(\"requirements.txt\", True)\n",
    "import importlib\n",
    "import torch.nn as nn\n",
    "from google.colab import drive"
   ]
  },
  {
   "cell_type": "markdown",
   "metadata": {
    "id": "HYYj9wCb8kkd"
   },
   "source": [
    "Google Drive:"
   ]
  },
  {
   "cell_type": "code",
   "execution_count": null,
   "metadata": {
    "id": "X1hqpSCm8nAp"
   },
   "outputs": [],
   "source": [
    "WRKDIR = \"/gdrive/My Drive/vision_transformer_colab/Project_Zero2_v2\"\n",
    "\n",
    "drive.mount(WRKDIR)\n",
    "\n",
    "sys.path.append('/gdrive/My Drive/vision_transformer_colab/Project_Zero2_v2')"
   ]
  },
  {
   "cell_type": "markdown",
   "metadata": {
    "id": "mzrv6mKo7o8B"
   },
   "source": [
    "Git:"
   ]
  },
  {
   "cell_type": "code",
   "execution_count": null,
   "metadata": {
    "id": "G3mBhmXU7uck"
   },
   "outputs": [],
   "source": [
    "repo = GitRepo(\"https://github.com/SponeKiller/Project-Zero2\")\n",
    "\n",
    "# Fetch and Pull data \n",
    "repo.pull()\n"
   ]
  },
  {
   "cell_type": "markdown",
   "metadata": {
    "id": "YJHfLxd3WYpq"
   },
   "source": [
    "# TRAIN"
   ]
  },
  {
   "cell_type": "markdown",
   "metadata": {
    "id": "BtJtbcrgbnX_"
   },
   "source": [
    "Model modules:"
   ]
  },
  {
   "cell_type": "code",
   "execution_count": null,
   "metadata": {
    "id": "kQVqMU87B-BZ"
   },
   "outputs": [],
   "source": [
    "for module_name in list(sys.modules):\n",
    "    if module_name.startswith(\"model_i2t.\"):\n",
    "        importlib.reload(sys.modules[module_name])\n",
    "\n",
    "\n",
    "from model_i2t.main import VisionTransformer\n",
    "from model_i2t.train.train import Train\n",
    "from model_i2t.train.config import TrainArgs"
   ]
  },
  {
   "cell_type": "markdown",
   "metadata": {},
   "source": [
    "Inicialize model and weights\n",
    "\n"
   ]
  },
  {
   "cell_type": "code",
   "execution_count": null,
   "metadata": {},
   "outputs": [],
   "source": [
    "model = VisionTransformer(16, 3, \"token\", 10, 512, 8, 4*512, 4, 4)\n",
    "config = TrainArgs()\n"
   ]
  },
  {
   "cell_type": "markdown",
   "metadata": {},
   "source": [
    "Train config"
   ]
  },
  {
   "cell_type": "code",
   "execution_count": null,
   "metadata": {
    "id": "-oOx7xhX9KbW"
   },
   "outputs": [],
   "source": [
    "config.batch_train_size = 150\n",
    "config.lr = 10**-3\n",
    "config.beta1 = 0.80\n",
    "config.beta2 = 0.99\n",
    "config.epsilon = 1**-9\n",
    "config.weight_decay = 1**-2\n",
    "config.amsgrad = False\n",
    "\n",
    "\n",
    "train = Train(model, config)"
   ]
  },
  {
   "cell_type": "markdown",
   "metadata": {
    "id": "HnT4NEb5WoOt"
   },
   "source": [
    "Running train:"
   ]
  },
  {
   "cell_type": "code",
   "execution_count": null,
   "metadata": {
    "collapsed": true,
    "id": "Df8RLH7mWqx7"
   },
   "outputs": [],
   "source": [
    "train.pretrain_training()"
   ]
  },
  {
   "cell_type": "markdown",
   "metadata": {
    "id": "zFkYPWVq77jA"
   },
   "source": [
    "Storing Data into Git:"
   ]
  },
  {
   "cell_type": "code",
   "execution_count": null,
   "metadata": {
    "id": "ozRdH67eRcfv"
   },
   "outputs": [],
   "source": [
    "repo.push()"
   ]
  }
 ],
 "metadata": {
  "accelerator": "TPU",
  "colab": {
   "authorship_tag": "ABX9TyMeL/QOcaY3QRv6LuVDhmGu",
   "gpuType": "V28",
   "machine_shape": "hm",
   "private_outputs": true,
   "provenance": []
  },
  "kernelspec": {
   "display_name": "venv",
   "language": "python",
   "name": "python3"
  },
  "language_info": {
   "codemirror_mode": {
    "name": "ipython",
    "version": 3
   },
   "file_extension": ".py",
   "mimetype": "text/x-python",
   "name": "python",
   "nbconvert_exporter": "python",
   "pygments_lexer": "ipython3",
   "version": "3.11.4"
  }
 },
 "nbformat": 4,
 "nbformat_minor": 0
}
